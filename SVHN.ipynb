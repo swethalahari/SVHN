{
 "cells": [
  {
   "cell_type": "code",
   "execution_count": 2,
   "metadata": {},
   "outputs": [],
   "source": [
    "import pandas as pd\n",
    "import numpy as np\n",
    "import h5py\n",
    "import matplotlib.pyplot as plt\n",
    "from sklearn.neighbors import KNeighborsClassifier\n",
    "from keras.utils import np_utils\n",
    "from sklearn.metrics import accuracy_score, confusion_matrix, classification_report,precision_score, recall_score, f1_score, precision_recall_curve, auc\n",
    "from keras import optimizers"
   ]
  },
  {
   "cell_type": "markdown",
   "metadata": {},
   "source": [
    "#### Read the file and check the column keys and names"
   ]
  },
  {
   "cell_type": "code",
   "execution_count": 47,
   "metadata": {},
   "outputs": [
    {
     "name": "stdout",
     "output_type": "stream",
     "text": [
      "['X_test', 'X_train', 'X_val', 'y_test', 'y_train', 'y_val']\n"
     ]
    }
   ],
   "source": [
    "# Read the h5 file., check for the columns / keys and load data appropriately\n",
    "with h5py.File(\"SVHN_single_grey1.h5\",'r') as hdf:\n",
    "    print(list(hdf.keys()))\n",
    "    xtrain = np.array(hdf.get('X_train'))\n",
    "    ytrain = np.array(hdf.get('y_train'))\n",
    "    xtest  = np.array(hdf.get('X_test'))\n",
    "    ytest  = np.array(hdf.get('y_test'))\n",
    "    xval   = np.array(hdf.get('X_val'))\n",
    "    yval   = np.array(hdf.get('y_val'))  "
   ]
  },
  {
   "cell_type": "code",
   "execution_count": 48,
   "metadata": {},
   "outputs": [
    {
     "data": {
      "text/plain": [
       "(array([[133.255 , 134.7279, 136.3148, ..., 103.7248, 100.8391, 100.6111],\n",
       "        [134.2549, 135.8418, 138.3146, ..., 117.1965, 114.1968, 114.0828],\n",
       "        [136.2547, 135.9558, 137.4287, ..., 126.8535, 123.7398, 123.4409],\n",
       "        ...,\n",
       "        [135.4136, 133.4847, 131.2569, ..., 129.0552, 131.642 , 133.4569],\n",
       "        [129.3972, 128.7671, 127.8381, ..., 128.5822, 129.2832, 129.9842],\n",
       "        [119.0823, 120.8649, 123.0496, ..., 128.1801, 127.8103, 128.2124]],\n",
       "       dtype=float32), 2)"
      ]
     },
     "execution_count": 48,
     "metadata": {},
     "output_type": "execute_result"
    }
   ],
   "source": [
    "xtest[2],ytest[2]"
   ]
  },
  {
   "cell_type": "code",
   "execution_count": 49,
   "metadata": {},
   "outputs": [
    {
     "data": {
      "image/png": "[encoded data removed]",
      "text/plain": [
       "<Figure size 1080x72 with 10 Axes>"
      ]
     },
     "metadata": {
      "needs_background": "light"
     },
     "output_type": "display_data"
    },
    {
     "name": "stdout",
     "output_type": "stream",
     "text": [
      "label for each of the above image: [2 6 7 4 4 0 3 0 7 3]\n"
     ]
    }
   ],
   "source": [
    "%matplotlib inline\n",
    "plt.figure(figsize=(15, 1))\n",
    "for i in range(10):\n",
    "    plt.subplot(1, 10, i+1)\n",
    "    plt.imshow(xtrain[i].reshape(32,32), cmap=\"gray\")\n",
    "    plt.axis('off')\n",
    "plt.show()\n",
    "print('label for each of the above image: %s' % (ytrain[0:10]))"
   ]
  },
  {
   "cell_type": "code",
   "execution_count": 50,
   "metadata": {},
   "outputs": [
    {
     "name": "stdout",
     "output_type": "stream",
     "text": [
      "(42000, 32, 32) (42000,)\n",
      "(60000, 32, 32) (60000,)\n",
      "(18000, 32, 32) (18000,)\n"
     ]
    }
   ],
   "source": [
    "print(xtrain.shape,ytrain.shape)\n",
    "print(xval.shape,yval.shape)\n",
    "print(xtest.shape,ytest.shape)"
   ]
  },
  {
   "cell_type": "markdown",
   "metadata": {},
   "source": [
    "### Reshape the data Xtest, XTrain, XVal"
   ]
  },
  {
   "cell_type": "code",
   "execution_count": 51,
   "metadata": {},
   "outputs": [
    {
     "name": "stdout",
     "output_type": "stream",
     "text": [
      "(42000, 1024) (60000, 1024) (18000, 1024)\n"
     ]
    }
   ],
   "source": [
    "# Reshape the data Xtest  and xtrain\n",
    "xtrain = xtrain.reshape(xtrain.shape[0],1024)\n",
    "xval = xval.reshape(xval.shape[0],1024)\n",
    "xtest = xtest.reshape(xtest.shape[0],1024)\n",
    "print(xtrain.shape,xval.shape,xtest.shape)"
   ]
  },
  {
   "cell_type": "markdown",
   "metadata": {},
   "source": [
    "### Normalize the data"
   ]
  },
  {
   "cell_type": "code",
   "execution_count": 52,
   "metadata": {},
   "outputs": [],
   "source": [
    "# Normalize the data\n",
    "xtrain = xtrain/255.0\n",
    "xval = xval/255.0\n",
    "xtest = xtest/255.0"
   ]
  },
  {
   "cell_type": "markdown",
   "metadata": {},
   "source": [
    "### Flatten the data"
   ]
  },
  {
   "cell_type": "code",
   "execution_count": 53,
   "metadata": {},
   "outputs": [],
   "source": [
    "# Flatten the data\n",
    "x_train = []\n",
    "x_test = []\n",
    "x_val = []\n",
    "for i in range(42000):\n",
    "    x_train.append(xtrain[i,:].flatten())\n",
    "for i in range(60000):\n",
    "    x_val.append(xval[i,:].flatten())\n",
    "for i in range(18000):\n",
    "    x_test.append(xtest[i,:].flatten())"
   ]
  },
  {
   "cell_type": "markdown",
   "metadata": {},
   "source": [
    "### Subset the data due to computational difficulties"
   ]
  },
  {
   "cell_type": "code",
   "execution_count": 54,
   "metadata": {},
   "outputs": [],
   "source": [
    "## As considering the entire dataset is taking a lot of time to execute, we are subsetting it.\n",
    "x_train = x_train[:4000]\n",
    "ytrain= ytrain[:4000]\n",
    "x_test = x_test[:1000]\n",
    "ytest = ytest[:1000]\n",
    "x_val = x_val[:2000]\n",
    "yval = yval[:2000]"
   ]
  },
  {
   "cell_type": "markdown",
   "metadata": {},
   "source": [
    "### Implementing K Nearest Neighbor"
   ]
  },
  {
   "cell_type": "code",
   "execution_count": 55,
   "metadata": {},
   "outputs": [],
   "source": [
    "# Implementing KNearest Classifier\n",
    "\n",
    "neighbors = np.arange(1,15)\n",
    "train_accuracy =np.empty(len(neighbors))\n",
    "val_accuracy = np.empty(len(neighbors))\n",
    "\n",
    "for i,k in enumerate(neighbors):\n",
    "    knn = KNeighborsClassifier(n_neighbors=k)\n",
    "    knn.fit(x_train, ytrain)\n",
    "    train_accuracy[i] = knn.score(x_train, ytrain)\n",
    "    val_accuracy[i] = knn.score(x_val, yval)"
   ]
  },
  {
   "cell_type": "code",
   "execution_count": 56,
   "metadata": {},
   "outputs": [
    {
     "name": "stdout",
     "output_type": "stream",
     "text": [
      "1.0 0.3955\n",
      "0.645 0.5465\n",
      "0.59625 0.5915\n",
      "0.58825 0.581\n",
      "0.57575 0.554\n",
      "0.55925 0.535\n",
      "0.54325 0.5135\n",
      "0.53575 0.5175\n",
      "0.52375 0.51\n",
      "0.51675 0.5145\n",
      "0.5045 0.5245\n",
      "0.50025 0.52\n",
      "0.49925 0.5025\n",
      "0.49425 0.507\n"
     ]
    }
   ],
   "source": [
    "for i in range(len(train_accuracy)):\n",
    "    print(train_accuracy[i],val_accuracy[i])"
   ]
  },
  {
   "cell_type": "code",
   "execution_count": 57,
   "metadata": {},
   "outputs": [
    {
     "data": {
      "image/png": "[encoded data removed]",
      "text/plain": [
       "<Figure size 432x288 with 1 Axes>"
      ]
     },
     "metadata": {
      "needs_background": "light"
     },
     "output_type": "display_data"
    }
   ],
   "source": [
    "plt.title('k-NN Varying number of neighbors')\n",
    "plt.plot(neighbors, val_accuracy, label='Validation Accuracy')\n",
    "plt.plot(neighbors, train_accuracy, label='Training accuracy')\n",
    "plt.legend()\n",
    "plt.xlabel('Number of neighbors')\n",
    "plt.ylabel('Accuracy')\n",
    "plt.show()"
   ]
  },
  {
   "cell_type": "markdown",
   "metadata": {},
   "source": [
    "### From the graph it is understtod that the best value of k can be 3 or 4. Therefore retrain the algorithm"
   ]
  },
  {
   "cell_type": "code",
   "execution_count": 58,
   "metadata": {},
   "outputs": [],
   "source": [
    "#  Retrain the model with best value of K\n",
    "model = KNeighborsClassifier(n_neighbors=4)\n",
    "model.fit(x_train, ytrain)\n",
    "predictions = model.predict(x_test)"
   ]
  },
  {
   "cell_type": "code",
   "execution_count": 59,
   "metadata": {},
   "outputs": [
    {
     "name": "stdout",
     "output_type": "stream",
     "text": [
      "[1 7 1 8 0]\n"
     ]
    }
   ],
   "source": [
    "print(predictions[:5])"
   ]
  },
  {
   "cell_type": "code",
   "execution_count": 60,
   "metadata": {},
   "outputs": [
    {
     "name": "stdout",
     "output_type": "stream",
     "text": [
      "EVALUATION ON TESTING DATA\n",
      "              precision    recall  f1-score   support\n",
      "\n",
      "           0       0.29      0.57      0.39       117\n",
      "           1       0.31      0.65      0.42        93\n",
      "           2       0.26      0.24      0.25        92\n",
      "           3       0.22      0.27      0.24        85\n",
      "           4       0.55      0.43      0.48        96\n",
      "           5       0.37      0.19      0.25       105\n",
      "           6       0.33      0.22      0.27        94\n",
      "           7       0.66      0.42      0.51       107\n",
      "           8       0.38      0.21      0.27       100\n",
      "           9       0.39      0.24      0.30       111\n",
      "\n",
      "   micro avg       0.35      0.35      0.35      1000\n",
      "   macro avg       0.38      0.34      0.34      1000\n",
      "weighted avg       0.38      0.35      0.34      1000\n",
      "\n",
      "Confusion matrix\n",
      "[[67  5  5  8  6  4  7  2  7  6]\n",
      " [ 9 60  7  9  3  1  2  1  0  1]\n",
      " [11 23 22 14  2  3  2  5  4  6]\n",
      " [15 17  9 23  2  7  3  3  3  3]\n",
      " [14 20  6  4 41  2  1  2  4  2]\n",
      " [20 17  9 18  1 20  8  1  6  5]\n",
      " [26 11  8  5  8  6 21  2  3  4]\n",
      " [ 9 22 10  7  2  1  4 45  1  6]\n",
      " [26  6  2 11  6  7 10  1 21 10]\n",
      " [33 14  6  6  4  3  5  6  7 27]]\n"
     ]
    }
   ],
   "source": [
    "\n",
    "print(\"EVALUATION ON TESTING DATA\")\n",
    "print(classification_report(ytest, predictions))\n",
    "\n",
    "print (\"Confusion matrix\")\n",
    "print(confusion_matrix(ytest,predictions))\n"
   ]
  },
  {
   "cell_type": "code",
   "execution_count": 61,
   "metadata": {},
   "outputs": [],
   "source": [
    "def accuracy(val1,val2):\n",
    "    count = 0\n",
    "    for i in range(len(val1)):\n",
    "        if val1[i] == val2[i]:\n",
    "            count = count +1\n",
    "    acc = count / len(val1)\n",
    "    return acc"
   ]
  },
  {
   "cell_type": "code",
   "execution_count": 62,
   "metadata": {},
   "outputs": [
    {
     "name": "stdout",
     "output_type": "stream",
     "text": [
      "0.347\n"
     ]
    }
   ],
   "source": [
    "accu = accuracy(ytest,predictions)\n",
    "print(accu)"
   ]
  },
  {
   "cell_type": "code",
   "execution_count": 63,
   "metadata": {},
   "outputs": [],
   "source": [
    "#  Retrain the model with best value of K\n",
    "model = KNeighborsClassifier(n_neighbors=15)\n",
    "model.fit(x_train, ytrain)\n",
    "predictions = model.predict(x_test)"
   ]
  },
  {
   "cell_type": "code",
   "execution_count": 64,
   "metadata": {},
   "outputs": [
    {
     "name": "stdout",
     "output_type": "stream",
     "text": [
      "EVALUATION ON TESTING DATA\n",
      "              precision    recall  f1-score   support\n",
      "\n",
      "           0       0.35      0.62      0.44       117\n",
      "           1       0.31      0.56      0.40        93\n",
      "           2       0.44      0.36      0.40        92\n",
      "           3       0.29      0.32      0.30        85\n",
      "           4       0.47      0.45      0.46        96\n",
      "           5       0.40      0.18      0.25       105\n",
      "           6       0.31      0.27      0.29        94\n",
      "           7       0.58      0.49      0.53       107\n",
      "           8       0.44      0.27      0.33       100\n",
      "           9       0.35      0.26      0.30       111\n",
      "\n",
      "   micro avg       0.38      0.38      0.38      1000\n",
      "   macro avg       0.39      0.38      0.37      1000\n",
      "weighted avg       0.39      0.38      0.37      1000\n",
      "\n",
      "Confusion matrix\n",
      "[[72  6  1  3 12  3  8  2  4  6]\n",
      " [11 52  5  7  5  3  5  4  1  0]\n",
      " [ 3 15 33 11  2  1  3  8  7  9]\n",
      " [11 16  7 27  0  7  4  6  5  2]\n",
      " [ 8 16  4  7 43  1  7  3  1  6]\n",
      " [20 20  6 13  1 19 11  2  5  8]\n",
      " [26  6  1  5 12  2 25  4  5  8]\n",
      " [ 6 18  8 12  2  3  2 52  2  2]\n",
      " [20  7  5  3 11  4  8  1 27 14]\n",
      " [31 12  5  6  4  5  7  7  5 29]]\n"
     ]
    }
   ],
   "source": [
    "print(\"EVALUATION ON TESTING DATA\")\n",
    "print(classification_report(ytest, predictions))\n",
    "\n",
    "print (\"Confusion matrix\")\n",
    "print(confusion_matrix(ytest,predictions))\n"
   ]
  },
  {
   "cell_type": "code",
   "execution_count": 65,
   "metadata": {},
   "outputs": [
    {
     "name": "stdout",
     "output_type": "stream",
     "text": [
      "0.379\n"
     ]
    }
   ],
   "source": [
    "accu = accuracy(ytest,predictions)\n",
    "print(accu)"
   ]
  },
  {
   "cell_type": "markdown",
   "metadata": {},
   "source": [
    "### On Training data the average seems to be around 55% but on test data, we are able to achieve only 38%. So the model has not learned properly and is underfit"
   ]
  },
  {
   "cell_type": "code",
   "execution_count": 66,
   "metadata": {},
   "outputs": [
    {
     "data": {
      "text/plain": [
       "GridSearchCV(cv=5, error_score='raise-deprecating',\n",
       "       estimator=KNeighborsClassifier(algorithm='auto', leaf_size=30, metric='minkowski',\n",
       "           metric_params=None, n_jobs=None, n_neighbors=5, p=2,\n",
       "           weights='uniform'),\n",
       "       fit_params=None, iid='warn', n_jobs=None,\n",
       "       param_grid={'n_neighbors': array([ 7,  8,  9, 10, 11, 12, 13, 14, 15, 16, 17, 18, 19, 20])},\n",
       "       pre_dispatch='2*n_jobs', refit=True, return_train_score='warn',\n",
       "       scoring=None, verbose=0)"
      ]
     },
     "execution_count": 66,
     "metadata": {},
     "output_type": "execute_result"
    }
   ],
   "source": [
    "from sklearn.model_selection import GridSearchCV\n",
    "param_grid = {'n_neighbors':np.arange(7,21)}\n",
    "knn = KNeighborsClassifier()\n",
    "knn_cv= GridSearchCV(knn,param_grid,cv=5)\n",
    "knn_cv.fit(x_train,ytrain)"
   ]
  },
  {
   "cell_type": "code",
   "execution_count": 67,
   "metadata": {},
   "outputs": [
    {
     "data": {
      "text/plain": [
       "0.327"
      ]
     },
     "execution_count": 67,
     "metadata": {},
     "output_type": "execute_result"
    }
   ],
   "source": [
    "knn_cv.best_score_"
   ]
  },
  {
   "cell_type": "markdown",
   "metadata": {},
   "source": [
    "## Neural Network"
   ]
  },
  {
   "cell_type": "code",
   "execution_count": 1,
   "metadata": {},
   "outputs": [
    {
     "name": "stderr",
     "output_type": "stream",
     "text": [
      "Using TensorFlow backend.\n"
     ]
    }
   ],
   "source": [
    "import tensorflow as tf\n",
    "import keras\n",
    "from keras import losses\n",
    "from keras.models import Sequential\n",
    "from keras import optimizers\n",
    "from keras.layers import MaxPooling2D,BatchNormalization,Dense"
   ]
  },
  {
   "cell_type": "code",
   "execution_count": 3,
   "metadata": {},
   "outputs": [
    {
     "name": "stdout",
     "output_type": "stream",
     "text": [
      "['X_test', 'X_train', 'X_val', 'y_test', 'y_train', 'y_val']\n"
     ]
    }
   ],
   "source": [
    "with h5py.File(\"SVHN_single_grey1.h5\",'r') as hdf:\n",
    "    print(list(hdf.keys()))\n",
    "    xtrain = np.array(hdf.get('X_train'))\n",
    "    ytrain = np.array(hdf.get('y_train'))\n",
    "    xtest  = np.array(hdf.get('X_test'))\n",
    "    ytest  = np.array(hdf.get('y_test'))\n",
    "    xval   = np.array(hdf.get('X_val'))\n",
    "    yval   = np.array(hdf.get('y_val'))  "
   ]
  },
  {
   "cell_type": "code",
   "execution_count": 4,
   "metadata": {},
   "outputs": [
    {
     "name": "stdout",
     "output_type": "stream",
     "text": [
      "Training set (42000, 32, 32) (42000,)\n",
      "Test set (18000, 32, 32) (18000,)\n",
      "val set (60000, 32, 32) (60000,)\n"
     ]
    }
   ],
   "source": [
    "print('Training set', xtrain.shape, ytrain.shape)\n",
    "print('Test set', xtest.shape, ytest.shape)\n",
    "print('val set', xval.shape, yval.shape)"
   ]
  },
  {
   "cell_type": "markdown",
   "metadata": {},
   "source": [
    "### Reshape data"
   ]
  },
  {
   "cell_type": "code",
   "execution_count": 5,
   "metadata": {},
   "outputs": [],
   "source": [
    "## Reshape the data for X\n",
    "xtrain = xtrain.reshape(xtrain.shape[0],1024)\n",
    "xtest =xtest.reshape(xtest.shape[0],1024)\n",
    "xval = xval.reshape(xval.shape[0],1024)"
   ]
  },
  {
   "cell_type": "markdown",
   "metadata": {},
   "source": [
    "### Normalize data . make data values between 0 and 1,[dividing values by 255 ]"
   ]
  },
  {
   "cell_type": "code",
   "execution_count": 6,
   "metadata": {},
   "outputs": [],
   "source": [
    "xtrain = xtrain/255\n",
    "xtest = xtest/255\n",
    "xval = xval/255"
   ]
  },
  {
   "cell_type": "code",
   "execution_count": 7,
   "metadata": {},
   "outputs": [
    {
     "name": "stdout",
     "output_type": "stream",
     "text": [
      "Training set (42000, 1024) (42000,)\n",
      "Test set (18000, 1024) (18000,)\n",
      "val set (60000, 1024) (60000,)\n"
     ]
    }
   ],
   "source": [
    "print('Training set', xtrain.shape, ytrain.shape)\n",
    "print('Test set', xtest.shape, ytest.shape)\n",
    "print('val set', xval.shape, yval.shape)"
   ]
  },
  {
   "cell_type": "markdown",
   "metadata": {},
   "source": [
    "##### Reshape / Flatten code [ optional flatten if done reshape]"
   ]
  },
  {
   "cell_type": "raw",
   "metadata": {},
   "source": [
    "# Flatten the images for keras model\n",
    "\n",
    "# Flatten the data\n",
    "x_train = []\n",
    "x_test = []\n",
    "x_val = []\n",
    "for i in range(42000):\n",
    "    x_train.append(xtrain[i,:].flatten())\n",
    "for i in range(60000):\n",
    "    x_val.append(xval[i,:].flatten())\n",
    "for i in range(18000):\n",
    "    x_test.append(xtest[i,:].flatten())"
   ]
  },
  {
   "cell_type": "markdown",
   "metadata": {},
   "source": [
    "### As the labels are 10., one hot encode the label data"
   ]
  },
  {
   "cell_type": "code",
   "execution_count": 8,
   "metadata": {},
   "outputs": [],
   "source": [
    "# One hot encode y\n",
    "y_train = np_utils.to_categorical(ytrain)\n",
    "y_test = np_utils.to_categorical(ytest)\n",
    "y_val = np_utils.to_categorical(yval)"
   ]
  },
  {
   "cell_type": "code",
   "execution_count": 9,
   "metadata": {},
   "outputs": [
    {
     "name": "stdout",
     "output_type": "stream",
     "text": [
      "Training set (42000, 1024) (42000, 10)\n",
      "Validation set (60000, 1024) (60000, 10)\n",
      "Test set (18000, 1024) (18000, 10)\n"
     ]
    }
   ],
   "source": [
    "print('Training set', xtrain.shape, y_train.shape)\n",
    "print('Validation set',xval.shape,y_val.shape)\n",
    "print('Test set', xtest.shape, y_test.shape)"
   ]
  },
  {
   "cell_type": "markdown",
   "metadata": {},
   "source": [
    "### Relu Activation function, working with different learning rate"
   ]
  },
  {
   "cell_type": "code",
   "execution_count": 10,
   "metadata": {},
   "outputs": [],
   "source": [
    "def NN_model_Dense(learning_rate):\n",
    "    \n",
    "    model = Sequential()\n",
    "    model.add(Dense(256, activation='relu',input_shape = (1024, )))\n",
    "    model.add(Dense(64,activation='relu'))    \n",
    "    model.add(Dense(32,activation='relu'))  \n",
    "    model.add(Dense(10,activation='softmax'))\n",
    "    \n",
    "    sgd = optimizers.SGD(lr = learning_rate)\n",
    "    model.compile(optimizer = sgd, loss = 'categorical_crossentropy', metrics = ['accuracy'])\n",
    "    \n",
    "    return model"
   ]
  },
  {
   "cell_type": "code",
   "execution_count": 11,
   "metadata": {},
   "outputs": [
    {
     "name": "stderr",
     "output_type": "stream",
     "text": [
      "WARNING: Logging before flag parsing goes to stderr.\n",
      "W0810 18:32:09.951967  6216 deprecation_wrapper.py:119] From C:\\Users\\20012\\AppData\\Local\\Continuum\\anaconda3\\lib\\site-packages\\keras\\backend\\tensorflow_backend.py:74: The name tf.get_default_graph is deprecated. Please use tf.compat.v1.get_default_graph instead.\n",
      "\n",
      "W0810 18:32:09.998940  6216 deprecation_wrapper.py:119] From C:\\Users\\20012\\AppData\\Local\\Continuum\\anaconda3\\lib\\site-packages\\keras\\backend\\tensorflow_backend.py:517: The name tf.placeholder is deprecated. Please use tf.compat.v1.placeholder instead.\n",
      "\n",
      "W0810 18:32:10.005935  6216 deprecation_wrapper.py:119] From C:\\Users\\20012\\AppData\\Local\\Continuum\\anaconda3\\lib\\site-packages\\keras\\backend\\tensorflow_backend.py:4138: The name tf.random_uniform is deprecated. Please use tf.random.uniform instead.\n",
      "\n",
      "W0810 18:32:10.111095  6216 deprecation_wrapper.py:119] From C:\\Users\\20012\\AppData\\Local\\Continuum\\anaconda3\\lib\\site-packages\\keras\\optimizers.py:790: The name tf.train.Optimizer is deprecated. Please use tf.compat.v1.train.Optimizer instead.\n",
      "\n",
      "W0810 18:32:10.122074  6216 deprecation_wrapper.py:119] From C:\\Users\\20012\\AppData\\Local\\Continuum\\anaconda3\\lib\\site-packages\\keras\\backend\\tensorflow_backend.py:3295: The name tf.log is deprecated. Please use tf.math.log instead.\n",
      "\n",
      "W0810 18:32:10.248904  6216 deprecation.py:323] From C:\\Users\\20012\\AppData\\Local\\Continuum\\anaconda3\\lib\\site-packages\\tensorflow\\python\\ops\\math_grad.py:1250: add_dispatch_support.<locals>.wrapper (from tensorflow.python.ops.array_ops) is deprecated and will be removed in a future version.\n",
      "Instructions for updating:\n",
      "Use tf.where in 2.0, which has the same broadcast rule as np.where\n",
      "W0810 18:32:10.322861  6216 deprecation_wrapper.py:119] From C:\\Users\\20012\\AppData\\Local\\Continuum\\anaconda3\\lib\\site-packages\\keras\\backend\\tensorflow_backend.py:986: The name tf.assign_add is deprecated. Please use tf.compat.v1.assign_add instead.\n",
      "\n"
     ]
    },
    {
     "name": "stdout",
     "output_type": "stream",
     "text": [
      "Epoch 1/10\n",
      "42000/42000 [==============================] - 7s 169us/step - loss: 2.3026 - acc: 0.1115\n",
      "Epoch 2/10\n",
      "42000/42000 [==============================] - 7s 165us/step - loss: 2.2950 - acc: 0.1287\n",
      "Epoch 3/10\n",
      "42000/42000 [==============================] - 7s 164us/step - loss: 2.2898 - acc: 0.1420\n",
      "Epoch 4/10\n",
      "42000/42000 [==============================] - 7s 166us/step - loss: 2.2841 - acc: 0.1537\n",
      "Epoch 5/10\n",
      "42000/42000 [==============================] - 7s 163us/step - loss: 2.2768 - acc: 0.1668\n",
      "Epoch 6/10\n",
      "42000/42000 [==============================] - 7s 165us/step - loss: 2.2680 - acc: 0.1863\n",
      "Epoch 7/10\n",
      "42000/42000 [==============================] - 7s 164us/step - loss: 2.2582 - acc: 0.2011\n",
      "Epoch 8/10\n",
      "42000/42000 [==============================] - 7s 167us/step - loss: 2.2470 - acc: 0.2177\n",
      "Epoch 9/10\n",
      "42000/42000 [==============================] - 7s 165us/step - loss: 2.2336 - acc: 0.2303\n",
      "Epoch 10/10\n",
      "42000/42000 [==============================] - 7s 164us/step - loss: 2.2179 - acc: 0.2429\n"
     ]
    }
   ],
   "source": [
    "model_Dense = NN_model_Dense(0.001)\n",
    "NN_model_Dense_history = model_Dense.fit(xtrain, y_train, epochs = 10, verbose = 1)"
   ]
  },
  {
   "cell_type": "code",
   "execution_count": 12,
   "metadata": {},
   "outputs": [
    {
     "name": "stdout",
     "output_type": "stream",
     "text": [
      "Epoch 1/30\n",
      "42000/42000 [==============================] - 7s 165us/step - loss: 2.2744 - acc: 0.1432\n",
      "Epoch 2/30\n",
      "42000/42000 [==============================] - 7s 164us/step - loss: 2.1022 - acc: 0.2507\n",
      "Epoch 3/30\n",
      "42000/42000 [==============================] - 7s 172us/step - loss: 1.7913 - acc: 0.4036\n",
      "Epoch 4/30\n",
      "42000/42000 [==============================] - 7s 164us/step - loss: 1.5059 - acc: 0.5162\n",
      "Epoch 5/30\n",
      "42000/42000 [==============================] - 7s 165us/step - loss: 1.3214 - acc: 0.5841\n",
      "Epoch 6/30\n",
      "42000/42000 [==============================] - 7s 165us/step - loss: 1.2148 - acc: 0.6215\n",
      "Epoch 7/30\n",
      "42000/42000 [==============================] - 7s 164us/step - loss: 1.1395 - acc: 0.6479\n",
      "Epoch 8/30\n",
      "42000/42000 [==============================] - 7s 164us/step - loss: 1.0748 - acc: 0.6686\n",
      "Epoch 9/30\n",
      "42000/42000 [==============================] - 7s 165us/step - loss: 1.0232 - acc: 0.6835\n",
      "Epoch 10/30\n",
      "42000/42000 [==============================] - 7s 167us/step - loss: 0.9828 - acc: 0.6968\n",
      "Epoch 11/30\n",
      "42000/42000 [==============================] - 7s 166us/step - loss: 0.9484 - acc: 0.7078\n",
      "Epoch 12/30\n",
      "42000/42000 [==============================] - 7s 166us/step - loss: 0.9120 - acc: 0.7195\n",
      "Epoch 13/30\n",
      "42000/42000 [==============================] - 7s 167us/step - loss: 0.8816 - acc: 0.7292\n",
      "Epoch 14/30\n",
      "42000/42000 [==============================] - 7s 166us/step - loss: 0.8543 - acc: 0.7372\n",
      "Epoch 15/30\n",
      "42000/42000 [==============================] - 7s 168us/step - loss: 0.8302 - acc: 0.7456\n",
      "Epoch 16/30\n",
      "42000/42000 [==============================] - 7s 166us/step - loss: 0.8099 - acc: 0.7505\n",
      "Epoch 17/30\n",
      "42000/42000 [==============================] - 8s 190us/step - loss: 0.7873 - acc: 0.7588\n",
      "Epoch 18/30\n",
      "42000/42000 [==============================] - 8s 184us/step - loss: 0.7694 - acc: 0.7662\n",
      "Epoch 19/30\n",
      "42000/42000 [==============================] - 8s 180us/step - loss: 0.7522 - acc: 0.7692\n",
      "Epoch 20/30\n",
      "42000/42000 [==============================] - 7s 165us/step - loss: 0.7328 - acc: 0.7749\n",
      "Epoch 21/30\n",
      "42000/42000 [==============================] - 7s 166us/step - loss: 0.7187 - acc: 0.7786\n",
      "Epoch 22/30\n",
      "42000/42000 [==============================] - 7s 167us/step - loss: 0.7061 - acc: 0.7823\n",
      "Epoch 23/30\n",
      "42000/42000 [==============================] - 7s 168us/step - loss: 0.6927 - acc: 0.7869\n",
      "Epoch 24/30\n",
      "42000/42000 [==============================] - 7s 167us/step - loss: 0.6783 - acc: 0.7937\n",
      "Epoch 25/30\n",
      "42000/42000 [==============================] - 7s 166us/step - loss: 0.6706 - acc: 0.7937\n",
      "Epoch 26/30\n",
      "42000/42000 [==============================] - 7s 166us/step - loss: 0.6604 - acc: 0.7969\n",
      "Epoch 27/30\n",
      "42000/42000 [==============================] - 7s 172us/step - loss: 0.6481 - acc: 0.8003\n",
      "Epoch 28/30\n",
      "42000/42000 [==============================] - 7s 163us/step - loss: 0.6378 - acc: 0.8045\n",
      "Epoch 29/30\n",
      "42000/42000 [==============================] - 7s 166us/step - loss: 0.6278 - acc: 0.8067\n",
      "Epoch 30/30\n",
      "42000/42000 [==============================] - 7s 164us/step - loss: 0.6220 - acc: 0.8090\n"
     ]
    }
   ],
   "source": [
    "model_Dense = NN_model_Dense(0.01)\n",
    "NN_model_Dense_history = model_Dense.fit(xtrain, y_train, epochs = 30, verbose = 1)"
   ]
  },
  {
   "cell_type": "code",
   "execution_count": 13,
   "metadata": {},
   "outputs": [
    {
     "name": "stdout",
     "output_type": "stream",
     "text": [
      "18000/18000 [==============================] - 1s 38us/step\n",
      "[0.7276335886319478, 0.7802777777777777]\n"
     ]
    }
   ],
   "source": [
    "results = model_Dense.evaluate(xtest, y_test)\n",
    "print(results)"
   ]
  },
  {
   "cell_type": "markdown",
   "metadata": {},
   "source": [
    "### Compared with the earlier learning rate., 0.01 is good leading to 80% accuracy but, loss could be further worked on by increasing training. Even the test accuracy is good., but loss is again high"
   ]
  },
  {
   "cell_type": "markdown",
   "metadata": {},
   "source": [
    "### With Batch Normalization"
   ]
  },
  {
   "cell_type": "code",
   "execution_count": 14,
   "metadata": {},
   "outputs": [],
   "source": [
    "from keras.utils import np_utils\n",
    "def nn_model():\n",
    "    model = Sequential()\n",
    "    model.add(BatchNormalization())\n",
    "    model.add(Dense(256,activation = 'relu'))\n",
    "    model.add(Dense(64,activation = 'relu'))\n",
    "    model.add(Dense(32,activation = 'relu'))\n",
    "    model.add(Dense(16,activation = 'relu'))\n",
    "    model.add(Dense(10,activation = 'softmax'))\n",
    "    \n",
    "    sgd = optimizers.adam(lr = 1e-3)\n",
    "    model.compile(loss = losses.categorical_crossentropy,optimizer=sgd,metrics = ['accuracy'])\n",
    "    return model"
   ]
  },
  {
   "cell_type": "code",
   "execution_count": 15,
   "metadata": {},
   "outputs": [],
   "source": [
    "model_seq = nn_model()"
   ]
  },
  {
   "cell_type": "code",
   "execution_count": 16,
   "metadata": {},
   "outputs": [
    {
     "name": "stdout",
     "output_type": "stream",
     "text": [
      "Train on 42000 samples, validate on 60000 samples\n",
      "Epoch 1/30\n",
      "42000/42000 [==============================] - 5s 127us/step - loss: 1.7024 - acc: 0.4146 - val_loss: 1.2118 - val_acc: 0.6195\n",
      "Epoch 2/30\n",
      "42000/42000 [==============================] - 5s 116us/step - loss: 1.0818 - acc: 0.6666 - val_loss: 0.9078 - val_acc: 0.7251\n",
      "Epoch 3/30\n",
      "42000/42000 [==============================] - 5s 115us/step - loss: 0.8649 - acc: 0.7347 - val_loss: 0.8072 - val_acc: 0.7554\n",
      "Epoch 4/30\n",
      "42000/42000 [==============================] - 5s 118us/step - loss: 0.7628 - acc: 0.7660 - val_loss: 0.7214 - val_acc: 0.7798\n",
      "Epoch 5/30\n",
      "42000/42000 [==============================] - 5s 116us/step - loss: 0.6953 - acc: 0.7875 - val_loss: 0.6589 - val_acc: 0.8015\n",
      "Epoch 6/30\n",
      "42000/42000 [==============================] - 5s 117us/step - loss: 0.6436 - acc: 0.8025 - val_loss: 0.6398 - val_acc: 0.8043\n",
      "Epoch 7/30\n",
      "42000/42000 [==============================] - 5s 116us/step - loss: 0.6077 - acc: 0.8124 - val_loss: 0.5936 - val_acc: 0.8215\n",
      "Epoch 8/30\n",
      "42000/42000 [==============================] - 5s 117us/step - loss: 0.5678 - acc: 0.8241 - val_loss: 0.5682 - val_acc: 0.8304\n",
      "Epoch 9/30\n",
      "42000/42000 [==============================] - 5s 116us/step - loss: 0.5311 - acc: 0.8386 - val_loss: 0.5446 - val_acc: 0.8371\n",
      "Epoch 10/30\n",
      "42000/42000 [==============================] - 5s 117us/step - loss: 0.5199 - acc: 0.8398 - val_loss: 0.5163 - val_acc: 0.8459\n",
      "Epoch 11/30\n",
      "42000/42000 [==============================] - 5s 119us/step - loss: 0.4948 - acc: 0.8478 - val_loss: 0.4970 - val_acc: 0.8513\n",
      "Epoch 12/30\n",
      "42000/42000 [==============================] - 5s 117us/step - loss: 0.4624 - acc: 0.8578 - val_loss: 0.4855 - val_acc: 0.8549\n",
      "Epoch 13/30\n",
      "42000/42000 [==============================] - 5s 117us/step - loss: 0.4456 - acc: 0.8601 - val_loss: 0.4705 - val_acc: 0.8622\n",
      "Epoch 14/30\n",
      "42000/42000 [==============================] - 5s 117us/step - loss: 0.4372 - acc: 0.8642 - val_loss: 0.4829 - val_acc: 0.8570\n",
      "Epoch 15/30\n",
      "42000/42000 [==============================] - 5s 118us/step - loss: 0.4284 - acc: 0.8672 - val_loss: 0.4475 - val_acc: 0.8700\n",
      "Epoch 16/30\n",
      "42000/42000 [==============================] - 5s 118us/step - loss: 0.3988 - acc: 0.8764 - val_loss: 0.4408 - val_acc: 0.8711\n",
      "Epoch 17/30\n",
      "42000/42000 [==============================] - 5s 118us/step - loss: 0.3952 - acc: 0.8784 - val_loss: 0.4408 - val_acc: 0.8717\n",
      "Epoch 18/30\n",
      "42000/42000 [==============================] - 5s 118us/step - loss: 0.3843 - acc: 0.8810 - val_loss: 0.4341 - val_acc: 0.8726\n",
      "Epoch 19/30\n",
      "42000/42000 [==============================] - 5s 118us/step - loss: 0.3620 - acc: 0.8861 - val_loss: 0.4155 - val_acc: 0.8805\n",
      "Epoch 20/30\n",
      "42000/42000 [==============================] - 5s 118us/step - loss: 0.3554 - acc: 0.8886 - val_loss: 0.4004 - val_acc: 0.8865\n",
      "Epoch 21/30\n",
      "42000/42000 [==============================] - 5s 122us/step - loss: 0.3396 - acc: 0.8942 - val_loss: 0.4031 - val_acc: 0.8843\n",
      "Epoch 22/30\n",
      "42000/42000 [==============================] - 5s 120us/step - loss: 0.3417 - acc: 0.8924 - val_loss: 0.3914 - val_acc: 0.8898\n",
      "Epoch 23/30\n",
      "42000/42000 [==============================] - 5s 120us/step - loss: 0.3277 - acc: 0.8975 - val_loss: 0.3872 - val_acc: 0.8886\n",
      "Epoch 24/30\n",
      "42000/42000 [==============================] - 5s 119us/step - loss: 0.3214 - acc: 0.8996 - val_loss: 0.3804 - val_acc: 0.8924\n",
      "Epoch 25/30\n",
      "42000/42000 [==============================] - 5s 119us/step - loss: 0.3038 - acc: 0.9047 - val_loss: 0.3863 - val_acc: 0.8904\n",
      "Epoch 26/30\n",
      "42000/42000 [==============================] - 5s 120us/step - loss: 0.3042 - acc: 0.9047 - val_loss: 0.3662 - val_acc: 0.8982\n",
      "Epoch 27/30\n",
      "42000/42000 [==============================] - 5s 121us/step - loss: 0.2948 - acc: 0.9060 - val_loss: 0.3581 - val_acc: 0.9003\n",
      "Epoch 28/30\n",
      "42000/42000 [==============================] - 5s 126us/step - loss: 0.2897 - acc: 0.9070 - val_loss: 0.3654 - val_acc: 0.9002\n",
      "Epoch 29/30\n",
      "42000/42000 [==============================] - 5s 119us/step - loss: 0.2876 - acc: 0.9091 - val_loss: 0.3813 - val_acc: 0.8934\n",
      "Epoch 30/30\n",
      "42000/42000 [==============================] - 5s 121us/step - loss: 0.2705 - acc: 0.9151 - val_loss: 0.3817 - val_acc: 0.8943\n"
     ]
    }
   ],
   "source": [
    "NN_Built_model = model_seq.fit(xtrain,y_train,validation_data = (xval,y_val),epochs = 30,batch_size = 300,verbose = 1)"
   ]
  },
  {
   "cell_type": "markdown",
   "metadata": {},
   "source": [
    "### Batch normalization helped improve the accuracy and decrease the loss compared with earlier implementation without batch normalization."
   ]
  },
  {
   "cell_type": "code",
   "execution_count": 18,
   "metadata": {},
   "outputs": [
    {
     "data": {
      "image/png": "[encoded data removed]",
      "text/plain": [
       "<Figure size 432x288 with 1 Axes>"
      ]
     },
     "metadata": {
      "needs_background": "light"
     },
     "output_type": "display_data"
    }
   ],
   "source": [
    "# Plot training & validation accuracy values\n",
    "plt.plot(NN_Built_model.history['acc'])\n",
    "plt.plot(NN_Built_model.history['val_acc'])\n",
    "plt.title('Model accuracy')\n",
    "plt.ylabel('Accuracy')\n",
    "plt.xlabel('Epoch')\n",
    "plt.legend(['Train', 'Val'], loc='upper left')\n",
    "plt.show()"
   ]
  },
  {
   "cell_type": "code",
   "execution_count": 19,
   "metadata": {},
   "outputs": [
    {
     "data": {
      "image/png": "[encoded data removed]",
      "text/plain": [
       "<Figure size 432x288 with 1 Axes>"
      ]
     },
     "metadata": {
      "needs_background": "light"
     },
     "output_type": "display_data"
    }
   ],
   "source": [
    "# Plot training & validation Losses values\n",
    "plt.plot(NN_Built_model.history['loss'])\n",
    "plt.plot(NN_Built_model.history['val_loss'])\n",
    "plt.title('Model Losses')\n",
    "plt.ylabel('Loss')\n",
    "plt.xlabel('Epoch')\n",
    "plt.legend(['Train', 'Val'], loc='upper left')\n",
    "plt.show()"
   ]
  },
  {
   "cell_type": "markdown",
   "metadata": {},
   "source": [
    "### Compared to KNN., Neural network with batch normalization has a better accuracy with around 89%. Both validation accuracy and training accuracy are close by. Loss is also good."
   ]
  },
  {
   "cell_type": "code",
   "execution_count": 20,
   "metadata": {},
   "outputs": [
    {
     "name": "stdout",
     "output_type": "stream",
     "text": [
      "_________________________________________________________________\n",
      "Layer (type)                 Output Shape              Param #   \n",
      "=================================================================\n",
      "batch_normalization_1 (Batch (None, 1024)              4096      \n",
      "_________________________________________________________________\n",
      "dense_9 (Dense)              (None, 256)               262400    \n",
      "_________________________________________________________________\n",
      "dense_10 (Dense)             (None, 64)                16448     \n",
      "_________________________________________________________________\n",
      "dense_11 (Dense)             (None, 32)                2080      \n",
      "_________________________________________________________________\n",
      "dense_12 (Dense)             (None, 16)                528       \n",
      "_________________________________________________________________\n",
      "dense_13 (Dense)             (None, 10)                170       \n",
      "=================================================================\n",
      "Total params: 285,722\n",
      "Trainable params: 283,674\n",
      "Non-trainable params: 2,048\n",
      "_________________________________________________________________\n"
     ]
    }
   ],
   "source": [
    "model_seq.summary()"
   ]
  },
  {
   "cell_type": "code",
   "execution_count": 21,
   "metadata": {},
   "outputs": [
    {
     "name": "stdout",
     "output_type": "stream",
     "text": [
      "Epoch 1/10\n",
      "18000/18000 [==============================] - 1s 82us/step - loss: 0.6844 - acc: 0.8129\n",
      "Epoch 2/10\n",
      "18000/18000 [==============================] - 2s 86us/step - loss: 0.5375 - acc: 0.8409\n",
      "Epoch 3/10\n",
      "18000/18000 [==============================] - 1s 80us/step - loss: 0.4644 - acc: 0.8623: 1s - loss: 0\n",
      "Epoch 4/10\n",
      "18000/18000 [==============================] - 1s 79us/step - loss: 0.4227 - acc: 0.8734\n",
      "Epoch 5/10\n",
      "18000/18000 [==============================] - 1s 79us/step - loss: 0.3936 - acc: 0.8788\n",
      "Epoch 6/10\n",
      "18000/18000 [==============================] - 1s 80us/step - loss: 0.3681 - acc: 0.8872\n",
      "Epoch 7/10\n",
      "18000/18000 [==============================] - 1s 79us/step - loss: 0.3512 - acc: 0.8937\n",
      "Epoch 8/10\n",
      "18000/18000 [==============================] - 1s 80us/step - loss: 0.3357 - acc: 0.8949\n",
      "Epoch 9/10\n",
      "18000/18000 [==============================] - 1s 79us/step - loss: 0.3145 - acc: 0.9029\n",
      "Epoch 10/10\n",
      "18000/18000 [==============================] - 1s 80us/step - loss: 0.3006 - acc: 0.9078\n"
     ]
    }
   ],
   "source": [
    "NN_Built_model = model_seq.fit(xtest,y_test,epochs = 10,batch_size = 300,verbose = 1)"
   ]
  },
  {
   "cell_type": "markdown",
   "metadata": {},
   "source": [
    "### We can see that the model has performed well on test data as well with less loss."
   ]
  },
  {
   "cell_type": "code",
   "execution_count": 22,
   "metadata": {},
   "outputs": [
    {
     "name": "stdout",
     "output_type": "stream",
     "text": [
      "18000/18000 [==============================] - 1s 48us/step\n"
     ]
    },
    {
     "data": {
      "text/plain": [
       "[0.2651567802131176, 0.9205555555555556]"
      ]
     },
     "execution_count": 22,
     "metadata": {},
     "output_type": "execute_result"
    }
   ],
   "source": [
    "model_seq.evaluate(xtest,y_test)"
   ]
  },
  {
   "cell_type": "code",
   "execution_count": 23,
   "metadata": {},
   "outputs": [
    {
     "name": "stdout",
     "output_type": "stream",
     "text": [
      "['loss', 'acc']\n",
      "<keras.callbacks.History object at 0x000001E8B7EF9518>\n"
     ]
    }
   ],
   "source": [
    "print(model_seq.metrics_names)\n",
    "print(NN_Built_model) "
   ]
  },
  {
   "cell_type": "code",
   "execution_count": 24,
   "metadata": {},
   "outputs": [],
   "source": [
    "NN_Model_Predicted_Y = model_seq.predict_classes(xtest)"
   ]
  },
  {
   "cell_type": "code",
   "execution_count": 25,
   "metadata": {},
   "outputs": [
    {
     "name": "stdout",
     "output_type": "stream",
     "text": [
      "[1 7 2 9 0 9 1 8 4 4] [1 7 2 9 0 9 1 8 4 4]\n"
     ]
    }
   ],
   "source": [
    "print(ytest[:10],NN_Model_Predicted_Y[:10])"
   ]
  },
  {
   "cell_type": "code",
   "execution_count": 26,
   "metadata": {},
   "outputs": [
    {
     "data": {
      "image/png": "[encoded data removed]",
      "text/plain": [
       "<Figure size 1080x72 with 10 Axes>"
      ]
     },
     "metadata": {
      "needs_background": "light"
     },
     "output_type": "display_data"
    },
    {
     "name": "stdout",
     "output_type": "stream",
     "text": [
      "label for each of the above image: [1 7 2 9 0 9 1 8 4 4]\n"
     ]
    }
   ],
   "source": [
    "plt.figure(figsize=(15, 1))\n",
    "for i in range(10):\n",
    "    plt.subplot(1, 10, i+1)\n",
    "    plt.imshow(xtest[i].reshape(32,32), cmap=\"gray\")\n",
    "    plt.axis('off')\n",
    "plt.show()\n",
    "print('label for each of the above image: %s' % (ytest[:10]))"
   ]
  },
  {
   "cell_type": "markdown",
   "metadata": {},
   "source": [
    "### As the images are too blurry, our Neural network couldn't predict more accurately."
   ]
  },
  {
   "cell_type": "markdown",
   "metadata": {},
   "source": [
    "### We can still try to improve accuracy by using techniques like data augumentation, drop outs etc.,"
   ]
  },
  {
   "cell_type": "code",
   "execution_count": 27,
   "metadata": {},
   "outputs": [],
   "source": [
    "def nn_model_withdropouts():\n",
    "    model = Sequential()\n",
    "    model.add(BatchNormalization())\n",
    "    model.add(Dense(256,activation = 'relu'))\n",
    "    model.add(Dropout(0.5))\n",
    "    model.add(Dense(34,activation = 'relu'))\n",
    "    model.add(Dropout(0.5))\n",
    "    model.add(Dense(10,activation = 'softmax'))\n",
    "    \n",
    "    sgd = optimizers.adam(lr = 1e-3)\n",
    "    model.compile(loss = losses.categorical_crossentropy,optimizer=sgd,metrics = ['accuracy'])\n",
    "    return model"
   ]
  },
  {
   "cell_type": "code",
   "execution_count": 28,
   "metadata": {
    "scrolled": true
   },
   "outputs": [
    {
     "name": "stderr",
     "output_type": "stream",
     "text": [
      "W0810 18:47:54.561244  6216 deprecation.py:506] From C:\\Users\\20012\\AppData\\Local\\Continuum\\anaconda3\\lib\\site-packages\\keras\\backend\\tensorflow_backend.py:3445: calling dropout (from tensorflow.python.ops.nn_ops) with keep_prob is deprecated and will be removed in a future version.\n",
      "Instructions for updating:\n",
      "Please use `rate` instead of `keep_prob`. Rate should be set to `rate = 1 - keep_prob`.\n"
     ]
    },
    {
     "name": "stdout",
     "output_type": "stream",
     "text": [
      "Train on 42000 samples, validate on 60000 samples\n",
      "Epoch 1/30\n",
      "42000/42000 [==============================] - 6s 137us/step - loss: 2.3530 - acc: 0.1235 - val_loss: 2.1667 - val_acc: 0.2174\n",
      "Epoch 2/30\n",
      "42000/42000 [==============================] - 5s 123us/step - loss: 2.1184 - acc: 0.2145 - val_loss: 1.8193 - val_acc: 0.4164\n",
      "Epoch 3/30\n",
      "42000/42000 [==============================] - 5s 123us/step - loss: 1.9254 - acc: 0.3011 - val_loss: 1.5817 - val_acc: 0.5131\n",
      "Epoch 4/30\n",
      "42000/42000 [==============================] - 5s 124us/step - loss: 1.8168 - acc: 0.3420 - val_loss: 1.4935 - val_acc: 0.5332\n",
      "Epoch 5/30\n",
      "42000/42000 [==============================] - 5s 124us/step - loss: 1.7390 - acc: 0.3760 - val_loss: 1.3838 - val_acc: 0.5789\n",
      "Epoch 6/30\n",
      "42000/42000 [==============================] - 5s 128us/step - loss: 1.6720 - acc: 0.4001 - val_loss: 1.3279 - val_acc: 0.5932\n",
      "Epoch 7/30\n",
      "42000/42000 [==============================] - 5s 126us/step - loss: 1.6083 - acc: 0.4310 - val_loss: 1.2753 - val_acc: 0.6189\n",
      "Epoch 8/30\n",
      "42000/42000 [==============================] - 5s 126us/step - loss: 1.5701 - acc: 0.4427 - val_loss: 1.2055 - val_acc: 0.6503\n",
      "Epoch 9/30\n",
      "42000/42000 [==============================] - 5s 125us/step - loss: 1.5346 - acc: 0.4556 - val_loss: 1.1750 - val_acc: 0.6459\n",
      "Epoch 10/30\n",
      "42000/42000 [==============================] - 5s 129us/step - loss: 1.5027 - acc: 0.4673 - val_loss: 1.1812 - val_acc: 0.6503\n",
      "Epoch 11/30\n",
      "42000/42000 [==============================] - 6s 138us/step - loss: 1.4800 - acc: 0.4769 - val_loss: 1.1266 - val_acc: 0.6698\n",
      "Epoch 12/30\n",
      "42000/42000 [==============================] - 5s 127us/step - loss: 1.4532 - acc: 0.4838 - val_loss: 1.1163 - val_acc: 0.6592\n",
      "Epoch 13/30\n",
      "42000/42000 [==============================] - 6s 137us/step - loss: 1.4326 - acc: 0.4913 - val_loss: 1.0601 - val_acc: 0.6866\n",
      "Epoch 14/30\n",
      "42000/42000 [==============================] - 5s 126us/step - loss: 1.4120 - acc: 0.4976 - val_loss: 1.0234 - val_acc: 0.7045\n",
      "Epoch 15/30\n",
      "42000/42000 [==============================] - 5s 125us/step - loss: 1.3917 - acc: 0.5141 - val_loss: 1.0180 - val_acc: 0.7189\n",
      "Epoch 16/30\n",
      "42000/42000 [==============================] - 5s 126us/step - loss: 1.3709 - acc: 0.5199 - val_loss: 0.9926 - val_acc: 0.7195\n",
      "Epoch 17/30\n",
      "42000/42000 [==============================] - 5s 126us/step - loss: 1.3436 - acc: 0.5326 - val_loss: 0.9634 - val_acc: 0.7237\n",
      "Epoch 18/30\n",
      "42000/42000 [==============================] - 5s 125us/step - loss: 1.3091 - acc: 0.5453 - val_loss: 0.9316 - val_acc: 0.7380\n",
      "Epoch 19/30\n",
      "42000/42000 [==============================] - 5s 127us/step - loss: 1.2866 - acc: 0.5540 - val_loss: 0.9073 - val_acc: 0.7465\n",
      "Epoch 20/30\n",
      "42000/42000 [==============================] - 5s 126us/step - loss: 1.2786 - acc: 0.5580 - val_loss: 0.9112 - val_acc: 0.7480\n",
      "Epoch 21/30\n",
      "42000/42000 [==============================] - 5s 125us/step - loss: 1.2504 - acc: 0.5697 - val_loss: 0.8722 - val_acc: 0.7618\n",
      "Epoch 22/30\n",
      "42000/42000 [==============================] - 5s 127us/step - loss: 1.2325 - acc: 0.5778 - val_loss: 0.8619 - val_acc: 0.7654\n",
      "Epoch 23/30\n",
      "42000/42000 [==============================] - 5s 126us/step - loss: 1.2159 - acc: 0.5845 - val_loss: 0.8281 - val_acc: 0.7775\n",
      "Epoch 24/30\n",
      "42000/42000 [==============================] - 5s 126us/step - loss: 1.1897 - acc: 0.5952 - val_loss: 0.8262 - val_acc: 0.7746\n",
      "Epoch 25/30\n",
      "42000/42000 [==============================] - 5s 125us/step - loss: 1.1770 - acc: 0.5978 - val_loss: 0.8022 - val_acc: 0.7858\n",
      "Epoch 26/30\n",
      "42000/42000 [==============================] - 5s 127us/step - loss: 1.1637 - acc: 0.6060 - val_loss: 0.8032 - val_acc: 0.7848\n",
      "Epoch 27/30\n",
      "42000/42000 [==============================] - 5s 126us/step - loss: 1.1555 - acc: 0.6113 - val_loss: 0.7628 - val_acc: 0.7944\n",
      "Epoch 28/30\n",
      "42000/42000 [==============================] - 5s 129us/step - loss: 1.1396 - acc: 0.6167 - val_loss: 0.7659 - val_acc: 0.7946\n",
      "Epoch 29/30\n",
      "42000/42000 [==============================] - 5s 127us/step - loss: 1.1306 - acc: 0.6239 - val_loss: 0.7603 - val_acc: 0.7930\n",
      "Epoch 30/30\n",
      "42000/42000 [==============================] - 6s 132us/step - loss: 1.0991 - acc: 0.6301 - val_loss: 0.7244 - val_acc: 0.8004\n"
     ]
    }
   ],
   "source": [
    "from keras.layers import Dropout\n",
    "nn_seq_dropout = nn_model_withdropouts()\n",
    "Dropout_NN = nn_seq_dropout.fit(xtrain,y_train,validation_data = (xval,y_val),epochs = 30,batch_size = 300,verbose = 1)\n"
   ]
  },
  {
   "cell_type": "markdown",
   "metadata": {},
   "source": [
    "### Compared to the above method, Dropout didnot improve a much. Here validation accuracy is higher than training accuracy, leading to Underfitting... and also loss is high"
   ]
  },
  {
   "cell_type": "code",
   "execution_count": 29,
   "metadata": {},
   "outputs": [
    {
     "name": "stdout",
     "output_type": "stream",
     "text": [
      "18000/18000 [==============================] - 1s 51us/step\n"
     ]
    }
   ],
   "source": [
    "result_dropout = nn_seq_dropout.evaluate(xtest,y_test)"
   ]
  },
  {
   "cell_type": "code",
   "execution_count": 30,
   "metadata": {},
   "outputs": [
    {
     "name": "stdout",
     "output_type": "stream",
     "text": [
      "[0.7619999198118845, 0.7882222222222223]\n"
     ]
    }
   ],
   "source": [
    "print(result_dropout)"
   ]
  },
  {
   "cell_type": "code",
   "execution_count": 31,
   "metadata": {},
   "outputs": [
    {
     "data": {
      "image/png": "[encoded data removed]",
      "text/plain": [
       "<Figure size 432x288 with 1 Axes>"
      ]
     },
     "metadata": {
      "needs_background": "light"
     },
     "output_type": "display_data"
    }
   ],
   "source": [
    "# Plot training & validation accuracy values\n",
    "plt.plot(Dropout_NN.history['acc'])\n",
    "plt.plot(Dropout_NN.history['val_acc'])\n",
    "plt.title('Model accuracy')\n",
    "plt.ylabel('Accuracy')\n",
    "plt.xlabel('Epoch')\n",
    "plt.legend(['Train', 'Val'], loc='upper left')\n",
    "plt.show()"
   ]
  },
  {
   "cell_type": "code",
   "execution_count": 32,
   "metadata": {},
   "outputs": [
    {
     "data": {
      "image/png": "[encoded data removed]",
      "text/plain": [
       "<Figure size 432x288 with 1 Axes>"
      ]
     },
     "metadata": {
      "needs_background": "light"
     },
     "output_type": "display_data"
    }
   ],
   "source": [
    "# Plot training & validation loss\n",
    "plt.plot(Dropout_NN.history['loss'])\n",
    "plt.plot(Dropout_NN.history['val_loss'])\n",
    "plt.title('Model Losses')\n",
    "plt.ylabel('Loss')\n",
    "plt.xlabel('Epoch')\n",
    "plt.legend(['Train', 'Val'], loc='upper left')\n",
    "plt.show()"
   ]
  },
  {
   "cell_type": "markdown",
   "metadata": {},
   "source": [
    "### Using Activation functions and \"he\" initializer"
   ]
  },
  {
   "cell_type": "code",
   "execution_count": 33,
   "metadata": {},
   "outputs": [],
   "source": [
    "def NN_activation(activation_fun,learn_rate):\n",
    "    model = Sequential()\n",
    "    \n",
    "    model.add(Dense(256, activation = activation_fun,input_shape = (1024, ), kernel_initializer='he_normal'))     \n",
    "    model.add(Dense(124, activation=activation_fun,kernel_initializer='he_normal'))                            \n",
    "    model.add(Dense(64, activation = activation_fun,kernel_initializer='he_normal'))                           \n",
    "    model.add(Dense(32, activation= activation_fun, kernel_initializer='he_normal'))    \n",
    "    model.add(Dense(10, activation='softmax',kernel_initializer='he_normal'))                            \n",
    "   \n",
    "    sgd = optimizers.SGD(lr = learn_rate)\n",
    "    model.compile(optimizer = sgd, loss = 'categorical_crossentropy', metrics = ['accuracy'])\n",
    "    \n",
    "    return model"
   ]
  },
  {
   "cell_type": "code",
   "execution_count": 34,
   "metadata": {},
   "outputs": [
    {
     "name": "stdout",
     "output_type": "stream",
     "text": [
      "Train on 42000 samples, validate on 60000 samples\n",
      "Epoch 1/30\n",
      "42000/42000 [==============================] - 3s 80us/step - loss: 2.4138 - acc: 0.0997 - val_loss: 2.3177 - val_acc: 0.1000\n",
      "Epoch 2/30\n",
      "42000/42000 [==============================] - 3s 72us/step - loss: 2.3073 - acc: 0.1005 - val_loss: 2.3034 - val_acc: 0.1000\n",
      "Epoch 3/30\n",
      "42000/42000 [==============================] - 3s 67us/step - loss: 2.3029 - acc: 0.1024 - val_loss: 2.3027 - val_acc: 0.0993\n",
      "Epoch 4/30\n",
      "42000/42000 [==============================] - 3s 69us/step - loss: 2.3027 - acc: 0.1000 - val_loss: 2.3026 - val_acc: 0.1019\n",
      "Epoch 5/30\n",
      "42000/42000 [==============================] - 3s 66us/step - loss: 2.3027 - acc: 0.1003 - val_loss: 2.3026 - val_acc: 0.1005\n",
      "Epoch 6/30\n",
      "42000/42000 [==============================] - 3s 67us/step - loss: 2.3027 - acc: 0.0994 - val_loss: 2.3027 - val_acc: 0.0985\n",
      "Epoch 7/30\n",
      "42000/42000 [==============================] - 3s 69us/step - loss: 2.3027 - acc: 0.1017 - val_loss: 2.3027 - val_acc: 0.0999\n",
      "Epoch 8/30\n",
      "42000/42000 [==============================] - 3s 68us/step - loss: 2.3027 - acc: 0.0996 - val_loss: 2.3027 - val_acc: 0.0985\n",
      "Epoch 9/30\n",
      "42000/42000 [==============================] - 3s 67us/step - loss: 2.3027 - acc: 0.1007 - val_loss: 2.3027 - val_acc: 0.1000\n",
      "Epoch 10/30\n",
      "42000/42000 [==============================] - 3s 67us/step - loss: 2.3027 - acc: 0.0997 - val_loss: 2.3027 - val_acc: 0.0986\n",
      "Epoch 11/30\n",
      "42000/42000 [==============================] - 3s 67us/step - loss: 2.3027 - acc: 0.1007 - val_loss: 2.3026 - val_acc: 0.0985\n",
      "Epoch 12/30\n",
      "42000/42000 [==============================] - 3s 68us/step - loss: 2.3027 - acc: 0.1000 - val_loss: 2.3026 - val_acc: 0.0997\n",
      "Epoch 13/30\n",
      "42000/42000 [==============================] - 3s 69us/step - loss: 2.3027 - acc: 0.1007 - val_loss: 2.3026 - val_acc: 0.1000\n",
      "Epoch 14/30\n",
      "42000/42000 [==============================] - 3s 68us/step - loss: 2.3027 - acc: 0.1017 - val_loss: 2.3026 - val_acc: 0.0982\n",
      "Epoch 15/30\n",
      "42000/42000 [==============================] - 3s 70us/step - loss: 2.3027 - acc: 0.1005 - val_loss: 2.3026 - val_acc: 0.0997\n",
      "Epoch 16/30\n",
      "42000/42000 [==============================] - 3s 70us/step - loss: 2.3027 - acc: 0.0998 - val_loss: 2.3026 - val_acc: 0.0993\n",
      "Epoch 17/30\n",
      "42000/42000 [==============================] - 3s 68us/step - loss: 2.3027 - acc: 0.1011 - val_loss: 2.3026 - val_acc: 0.0994\n",
      "Epoch 18/30\n",
      "42000/42000 [==============================] - 3s 68us/step - loss: 2.3027 - acc: 0.0997 - val_loss: 2.3026 - val_acc: 0.0995\n",
      "Epoch 19/30\n",
      "42000/42000 [==============================] - 3s 68us/step - loss: 2.3027 - acc: 0.1016 - val_loss: 2.3026 - val_acc: 0.0985\n",
      "Epoch 20/30\n",
      "42000/42000 [==============================] - 3s 69us/step - loss: 2.3027 - acc: 0.1017 - val_loss: 2.3027 - val_acc: 0.1000\n",
      "Epoch 21/30\n",
      "42000/42000 [==============================] - 3s 72us/step - loss: 2.3027 - acc: 0.1017 - val_loss: 2.3027 - val_acc: 0.1008\n",
      "Epoch 22/30\n",
      "42000/42000 [==============================] - 3s 76us/step - loss: 2.3027 - acc: 0.1014 - val_loss: 2.3026 - val_acc: 0.0989\n",
      "Epoch 23/30\n",
      "42000/42000 [==============================] - 3s 70us/step - loss: 2.3027 - acc: 0.1004 - val_loss: 2.3026 - val_acc: 0.1006\n",
      "Epoch 24/30\n",
      "42000/42000 [==============================] - 3s 67us/step - loss: 2.3027 - acc: 0.1006 - val_loss: 2.3026 - val_acc: 0.0991\n",
      "Epoch 25/30\n",
      "42000/42000 [==============================] - 3s 65us/step - loss: 2.3027 - acc: 0.1005 - val_loss: 2.3026 - val_acc: 0.0992\n",
      "Epoch 26/30\n",
      "42000/42000 [==============================] - 3s 66us/step - loss: 2.3027 - acc: 0.1017 - val_loss: 2.3026 - val_acc: 0.0985\n",
      "Epoch 27/30\n",
      "42000/42000 [==============================] - 3s 66us/step - loss: 2.3027 - acc: 0.1011 - val_loss: 2.3026 - val_acc: 0.0983\n",
      "Epoch 28/30\n",
      "42000/42000 [==============================] - 3s 66us/step - loss: 2.3027 - acc: 0.0999 - val_loss: 2.3026 - val_acc: 0.0978\n",
      "Epoch 29/30\n",
      "42000/42000 [==============================] - 3s 66us/step - loss: 2.3027 - acc: 0.0993 - val_loss: 2.3027 - val_acc: 0.1007\n",
      "Epoch 30/30\n",
      "42000/42000 [==============================] - 3s 66us/step - loss: 2.3027 - acc: 0.1000 - val_loss: 2.3027 - val_acc: 0.0991\n"
     ]
    }
   ],
   "source": [
    "model = NN_activation('sigmoid',0.01)\n",
    "model_history = model.fit(xtrain,y_train,validation_data = (xval,y_val),epochs = 30,batch_size = 300,verbose = 1)"
   ]
  },
  {
   "cell_type": "code",
   "execution_count": 35,
   "metadata": {},
   "outputs": [
    {
     "name": "stdout",
     "output_type": "stream",
     "text": [
      "Train on 42000 samples, validate on 60000 samples\n",
      "Epoch 1/30\n",
      "42000/42000 [==============================] - 3s 77us/step - loss: 2.3298 - acc: 0.0998 - val_loss: 2.3060 - val_acc: 0.1053\n",
      "Epoch 2/30\n",
      "42000/42000 [==============================] - 3s 68us/step - loss: 2.3031 - acc: 0.1070 - val_loss: 2.3000 - val_acc: 0.1090\n",
      "Epoch 3/30\n",
      "42000/42000 [==============================] - 3s 70us/step - loss: 2.2986 - acc: 0.1111 - val_loss: 2.2967 - val_acc: 0.1136\n",
      "Epoch 4/30\n",
      "42000/42000 [==============================] - 3s 67us/step - loss: 2.2957 - acc: 0.1167 - val_loss: 2.2944 - val_acc: 0.1192\n",
      "Epoch 5/30\n",
      "42000/42000 [==============================] - 3s 68us/step - loss: 2.2935 - acc: 0.1225 - val_loss: 2.2924 - val_acc: 0.1252\n",
      "Epoch 6/30\n",
      "42000/42000 [==============================] - 3s 69us/step - loss: 2.2915 - acc: 0.1279 - val_loss: 2.2904 - val_acc: 0.1300\n",
      "Epoch 7/30\n",
      "42000/42000 [==============================] - 3s 68us/step - loss: 2.2896 - acc: 0.1335 - val_loss: 2.2885 - val_acc: 0.1340\n",
      "Epoch 8/30\n",
      "42000/42000 [==============================] - 3s 66us/step - loss: 2.2877 - acc: 0.1372 - val_loss: 2.2866 - val_acc: 0.1379\n",
      "Epoch 9/30\n",
      "42000/42000 [==============================] - 3s 66us/step - loss: 2.2857 - acc: 0.1426 - val_loss: 2.2845 - val_acc: 0.1418\n",
      "Epoch 10/30\n",
      "42000/42000 [==============================] - 3s 66us/step - loss: 2.2836 - acc: 0.1463 - val_loss: 2.2825 - val_acc: 0.1457\n",
      "Epoch 11/30\n",
      "42000/42000 [==============================] - 3s 66us/step - loss: 2.2815 - acc: 0.1493 - val_loss: 2.2806 - val_acc: 0.1506\n",
      "Epoch 12/30\n",
      "42000/42000 [==============================] - 3s 66us/step - loss: 2.2796 - acc: 0.1536 - val_loss: 2.2785 - val_acc: 0.1532\n",
      "Epoch 13/30\n",
      "42000/42000 [==============================] - 3s 68us/step - loss: 2.2775 - acc: 0.1557 - val_loss: 2.2764 - val_acc: 0.1580\n",
      "Epoch 14/30\n",
      "42000/42000 [==============================] - 3s 67us/step - loss: 2.2755 - acc: 0.1611 - val_loss: 2.2744 - val_acc: 0.1618\n",
      "Epoch 15/30\n",
      "42000/42000 [==============================] - 3s 67us/step - loss: 2.2733 - acc: 0.1649 - val_loss: 2.2722 - val_acc: 0.1654\n",
      "Epoch 16/30\n",
      "42000/42000 [==============================] - 3s 66us/step - loss: 2.2711 - acc: 0.1679 - val_loss: 2.2700 - val_acc: 0.1682\n",
      "Epoch 17/30\n",
      "42000/42000 [==============================] - 3s 68us/step - loss: 2.2688 - acc: 0.1710 - val_loss: 2.2676 - val_acc: 0.1681\n",
      "Epoch 18/30\n",
      "42000/42000 [==============================] - 3s 67us/step - loss: 2.2664 - acc: 0.1730 - val_loss: 2.2653 - val_acc: 0.1745\n",
      "Epoch 19/30\n",
      "42000/42000 [==============================] - 3s 66us/step - loss: 2.2641 - acc: 0.1761 - val_loss: 2.2628 - val_acc: 0.1785\n",
      "Epoch 20/30\n",
      "42000/42000 [==============================] - 3s 66us/step - loss: 2.2616 - acc: 0.1808 - val_loss: 2.2602 - val_acc: 0.1809\n",
      "Epoch 21/30\n",
      "42000/42000 [==============================] - 3s 69us/step - loss: 2.2590 - acc: 0.1833 - val_loss: 2.2576 - val_acc: 0.1831\n",
      "Epoch 22/30\n",
      "42000/42000 [==============================] - 3s 71us/step - loss: 2.2563 - acc: 0.1855 - val_loss: 2.2550 - val_acc: 0.1862\n",
      "Epoch 23/30\n",
      "42000/42000 [==============================] - 3s 68us/step - loss: 2.2535 - acc: 0.1875 - val_loss: 2.2519 - val_acc: 0.1900\n",
      "Epoch 24/30\n",
      "42000/42000 [==============================] - 3s 67us/step - loss: 2.2506 - acc: 0.1912 - val_loss: 2.2490 - val_acc: 0.1910\n",
      "Epoch 25/30\n",
      "42000/42000 [==============================] - 3s 66us/step - loss: 2.2476 - acc: 0.1925 - val_loss: 2.2460 - val_acc: 0.1941\n",
      "Epoch 26/30\n",
      "42000/42000 [==============================] - 3s 65us/step - loss: 2.2446 - acc: 0.1954 - val_loss: 2.2429 - val_acc: 0.1955\n",
      "Epoch 27/30\n",
      "42000/42000 [==============================] - 3s 66us/step - loss: 2.2414 - acc: 0.1987 - val_loss: 2.2396 - val_acc: 0.1994\n",
      "Epoch 28/30\n",
      "42000/42000 [==============================] - 3s 66us/step - loss: 2.2381 - acc: 0.2023 - val_loss: 2.2363 - val_acc: 0.2021\n",
      "Epoch 29/30\n",
      "42000/42000 [==============================] - 3s 66us/step - loss: 2.2348 - acc: 0.2030 - val_loss: 2.2328 - val_acc: 0.2058\n",
      "Epoch 30/30\n",
      "42000/42000 [==============================] - 3s 66us/step - loss: 2.2314 - acc: 0.2046 - val_loss: 2.2293 - val_acc: 0.2065\n"
     ]
    }
   ],
   "source": [
    "model = NN_activation('relu',0.001)\n",
    "model_history = model.fit(xtrain,y_train,validation_data = (xval,y_val),epochs = 30,batch_size = 300,verbose = 1)"
   ]
  },
  {
   "cell_type": "code",
   "execution_count": 36,
   "metadata": {},
   "outputs": [
    {
     "name": "stdout",
     "output_type": "stream",
     "text": [
      "Train on 42000 samples, validate on 60000 samples\n",
      "Epoch 1/30\n",
      "42000/42000 [==============================] - 3s 80us/step - loss: 2.3043 - acc: 0.1118 - val_loss: 2.2934 - val_acc: 0.1260\n",
      "Epoch 2/30\n",
      "42000/42000 [==============================] - 3s 66us/step - loss: 2.2862 - acc: 0.1415 - val_loss: 2.2783 - val_acc: 0.1600\n",
      "Epoch 3/30\n",
      "42000/42000 [==============================] - 3s 66us/step - loss: 2.2684 - acc: 0.1722 - val_loss: 2.2599 - val_acc: 0.1737\n",
      "Epoch 4/30\n",
      "42000/42000 [==============================] - 3s 67us/step - loss: 2.2463 - acc: 0.1985 - val_loss: 2.2345 - val_acc: 0.2107\n",
      "Epoch 5/30\n",
      "42000/42000 [==============================] - 3s 67us/step - loss: 2.2186 - acc: 0.2300 - val_loss: 2.2000 - val_acc: 0.2512\n",
      "Epoch 6/30\n",
      "42000/42000 [==============================] - 3s 67us/step - loss: 2.1808 - acc: 0.2616 - val_loss: 2.1647 - val_acc: 0.2358\n",
      "Epoch 7/30\n",
      "42000/42000 [==============================] - 3s 69us/step - loss: 2.1338 - acc: 0.2867 - val_loss: 2.1009 - val_acc: 0.3306\n",
      "Epoch 8/30\n",
      "42000/42000 [==============================] - 3s 67us/step - loss: 2.0746 - acc: 0.3153 - val_loss: 2.0411 - val_acc: 0.3234\n",
      "Epoch 9/30\n",
      "42000/42000 [==============================] - 3s 71us/step - loss: 2.0199 - acc: 0.3247 - val_loss: 2.0157 - val_acc: 0.3146\n",
      "Epoch 10/30\n",
      "42000/42000 [==============================] - 3s 72us/step - loss: 1.9521 - acc: 0.3470 - val_loss: 1.8978 - val_acc: 0.3924\n",
      "Epoch 11/30\n",
      "42000/42000 [==============================] - 3s 70us/step - loss: 1.8768 - acc: 0.3759 - val_loss: 1.8723 - val_acc: 0.3663\n",
      "Epoch 12/30\n",
      "42000/42000 [==============================] - 3s 69us/step - loss: 1.7996 - acc: 0.4024 - val_loss: 1.7331 - val_acc: 0.4421\n",
      "Epoch 13/30\n",
      "42000/42000 [==============================] - 3s 69us/step - loss: 1.7155 - acc: 0.4388 - val_loss: 1.6394 - val_acc: 0.4772\n",
      "Epoch 14/30\n",
      "42000/42000 [==============================] - 3s 70us/step - loss: 1.6377 - acc: 0.4664 - val_loss: 1.5567 - val_acc: 0.5114\n",
      "Epoch 15/30\n",
      "42000/42000 [==============================] - 3s 68us/step - loss: 1.5783 - acc: 0.4885 - val_loss: 1.5338 - val_acc: 0.4976\n",
      "Epoch 16/30\n",
      "42000/42000 [==============================] - 3s 70us/step - loss: 1.5191 - acc: 0.5095 - val_loss: 1.4741 - val_acc: 0.5295\n",
      "Epoch 17/30\n",
      "42000/42000 [==============================] - 3s 70us/step - loss: 1.4617 - acc: 0.5284 - val_loss: 1.4234 - val_acc: 0.5451\n",
      "Epoch 18/30\n",
      "42000/42000 [==============================] - 4s 92us/step - loss: 1.4063 - acc: 0.5500 - val_loss: 1.3303 - val_acc: 0.5844\n",
      "Epoch 19/30\n",
      "42000/42000 [==============================] - 4s 94us/step - loss: 1.3600 - acc: 0.5692 - val_loss: 1.3332 - val_acc: 0.5686\n",
      "Epoch 20/30\n",
      "42000/42000 [==============================] - 3s 71us/step - loss: 1.3263 - acc: 0.5763 - val_loss: 1.2644 - val_acc: 0.6090\n",
      "Epoch 21/30\n",
      "42000/42000 [==============================] - 3s 68us/step - loss: 1.2932 - acc: 0.5882 - val_loss: 1.2487 - val_acc: 0.6119\n",
      "Epoch 22/30\n",
      "42000/42000 [==============================] - 4s 103us/step - loss: 1.2528 - acc: 0.6028 - val_loss: 1.2425 - val_acc: 0.6091\n",
      "Epoch 23/30\n",
      "42000/42000 [==============================] - 4s 84us/step - loss: 1.2376 - acc: 0.6079 - val_loss: 1.1793 - val_acc: 0.6270\n",
      "Epoch 24/30\n",
      "42000/42000 [==============================] - 3s 69us/step - loss: 1.2122 - acc: 0.6154 - val_loss: 1.1520 - val_acc: 0.6454\n",
      "Epoch 25/30\n",
      "42000/42000 [==============================] - 3s 69us/step - loss: 1.1882 - acc: 0.6224 - val_loss: 1.1304 - val_acc: 0.6521\n",
      "Epoch 26/30\n",
      "42000/42000 [==============================] - 3s 69us/step - loss: 1.1593 - acc: 0.6345 - val_loss: 1.1596 - val_acc: 0.6343\n",
      "Epoch 27/30\n",
      "42000/42000 [==============================] - 3s 71us/step - loss: 1.1439 - acc: 0.6380 - val_loss: 1.1139 - val_acc: 0.6517\n",
      "Epoch 28/30\n",
      "42000/42000 [==============================] - 3s 74us/step - loss: 1.1230 - acc: 0.6467 - val_loss: 1.0878 - val_acc: 0.6624\n",
      "Epoch 29/30\n",
      "42000/42000 [==============================] - 3s 68us/step - loss: 1.1111 - acc: 0.6490 - val_loss: 1.0818 - val_acc: 0.6633\n",
      "Epoch 30/30\n",
      "42000/42000 [==============================] - 3s 67us/step - loss: 1.0811 - acc: 0.6616 - val_loss: 1.0428 - val_acc: 0.6776\n"
     ]
    }
   ],
   "source": [
    "model = NN_activation('relu',0.01)\n",
    "model_history = model.fit(xtrain,y_train,validation_data = (xval,y_val),epochs = 30,batch_size = 300,verbose = 1)"
   ]
  },
  {
   "cell_type": "markdown",
   "metadata": {},
   "source": [
    "### Implementing Data Augumentation\n"
   ]
  },
  {
   "cell_type": "code",
   "execution_count": 37,
   "metadata": {},
   "outputs": [
    {
     "name": "stdout",
     "output_type": "stream",
     "text": [
      "['X_test', 'X_train', 'X_val', 'y_test', 'y_train', 'y_val']\n"
     ]
    }
   ],
   "source": [
    "with h5py.File(\"SVHN_single_grey1.h5\",'r') as hdf:\n",
    "    print(list(hdf.keys()))\n",
    "    xtrain = np.array(hdf.get('X_train'))\n",
    "    ytrain = np.array(hdf.get('y_train'))\n",
    "    xtest  = np.array(hdf.get('X_test'))\n",
    "    ytest  = np.array(hdf.get('y_test'))\n",
    "    xval   = np.array(hdf.get('X_val'))\n",
    "    yval   = np.array(hdf.get('y_val')) "
   ]
  },
  {
   "cell_type": "markdown",
   "metadata": {},
   "source": [
    "### ImageDataGenerator"
   ]
  },
  {
   "cell_type": "code",
   "execution_count": 38,
   "metadata": {},
   "outputs": [
    {
     "name": "stderr",
     "output_type": "stream",
     "text": [
      "C:\\Users\\20012\\AppData\\Local\\Continuum\\anaconda3\\lib\\site-packages\\keras_preprocessing\\image\\image_data_generator.py:336: UserWarning: This ImageDataGenerator specifies `zca_whitening`, which overrides setting of `featurewise_center`.\n",
      "  warnings.warn('This ImageDataGenerator specifies '\n"
     ]
    }
   ],
   "source": [
    "from keras.preprocessing.image import ImageDataGenerator\n",
    "datagen = ImageDataGenerator(rotation_range=90,horizontal_flip=True, vertical_flip=True,zca_whitening=True)"
   ]
  },
  {
   "cell_type": "code",
   "execution_count": 39,
   "metadata": {},
   "outputs": [],
   "source": [
    "xtrain = xtrain.reshape([-1,32,32,1])\n",
    "datagen.fit(xtrain)"
   ]
  },
  {
   "cell_type": "code",
   "execution_count": 40,
   "metadata": {},
   "outputs": [
    {
     "data": {
      "image/png": "[encoded data removed]",
      "text/plain": [
       "<Figure size 432x288 with 9 Axes>"
      ]
     },
     "metadata": {
      "needs_background": "light"
     },
     "output_type": "display_data"
    }
   ],
   "source": [
    "for i in range(0,9):\n",
    "    plt.subplot(330 + 1 + i)\n",
    "    plt.imshow(xtrain[i].reshape(32,32))\n",
    "plt.show()"
   ]
  },
  {
   "cell_type": "code",
   "execution_count": 41,
   "metadata": {},
   "outputs": [
    {
     "name": "stdout",
     "output_type": "stream",
     "text": [
      "(42000, 32, 32, 1)\n"
     ]
    },
    {
     "data": {
      "text/plain": [
       "numpy.ndarray"
      ]
     },
     "execution_count": 41,
     "metadata": {},
     "output_type": "execute_result"
    }
   ],
   "source": [
    "print(xtrain.shape)\n",
    "type(xtrain)"
   ]
  },
  {
   "cell_type": "markdown",
   "metadata": {},
   "source": [
    "### Reshape / Flatten the data"
   ]
  },
  {
   "cell_type": "code",
   "execution_count": 42,
   "metadata": {},
   "outputs": [
    {
     "name": "stdout",
     "output_type": "stream",
     "text": [
      "(42000, 1024)\n",
      "(18000, 1024)\n",
      "(60000, 1024)\n"
     ]
    }
   ],
   "source": [
    "train_features = xtrain.reshape(42000, 1024)\n",
    "print(train_features.shape)\n",
    "test_features = xtest.reshape(18000, 1024)\n",
    "print(test_features.shape)\n",
    "val_features = xval.reshape(60000, 1024)\n",
    "print(val_features.shape)"
   ]
  },
  {
   "cell_type": "markdown",
   "metadata": {},
   "source": [
    "### One hot encode Label data"
   ]
  },
  {
   "cell_type": "code",
   "execution_count": 43,
   "metadata": {},
   "outputs": [],
   "source": [
    "y_train = np_utils.to_categorical(ytrain)\n",
    "y_test = np_utils.to_categorical(ytest)\n",
    "y_val = np_utils.to_categorical(yval)"
   ]
  },
  {
   "cell_type": "markdown",
   "metadata": {},
   "source": [
    "### Normalize Data"
   ]
  },
  {
   "cell_type": "code",
   "execution_count": 44,
   "metadata": {},
   "outputs": [],
   "source": [
    "train_features /= 255.0\n",
    "test_features /= 255.0\n",
    "val_features /= 255.0"
   ]
  },
  {
   "cell_type": "code",
   "execution_count": 45,
   "metadata": {},
   "outputs": [
    {
     "name": "stdout",
     "output_type": "stream",
     "text": [
      "Epoch 1/30\n",
      "42000/42000 [==============================] - 8s 181us/step - loss: 2.2871 - acc: 0.1375\n",
      "Epoch 2/30\n",
      "42000/42000 [==============================] - 7s 174us/step - loss: 2.1777 - acc: 0.2529\n",
      "Epoch 3/30\n",
      "42000/42000 [==============================] - 7s 172us/step - loss: 1.8506 - acc: 0.3664\n",
      "Epoch 4/30\n",
      "42000/42000 [==============================] - 7s 173us/step - loss: 1.5810 - acc: 0.4727\n",
      "Epoch 5/30\n",
      "42000/42000 [==============================] - 7s 173us/step - loss: 1.3878 - acc: 0.5578\n",
      "Epoch 6/30\n",
      "42000/42000 [==============================] - 7s 170us/step - loss: 1.2462 - acc: 0.6104\n",
      "Epoch 7/30\n",
      "42000/42000 [==============================] - 7s 176us/step - loss: 1.1555 - acc: 0.6423\n",
      "Epoch 8/30\n",
      "42000/42000 [==============================] - 7s 174us/step - loss: 1.0853 - acc: 0.6640\n",
      "Epoch 9/30\n",
      "42000/42000 [==============================] - 8s 179us/step - loss: 1.0320 - acc: 0.6816\n",
      "Epoch 10/30\n",
      "42000/42000 [==============================] - 8s 179us/step - loss: 0.9849 - acc: 0.6956\n",
      "Epoch 11/30\n",
      "42000/42000 [==============================] - 7s 175us/step - loss: 0.9471 - acc: 0.7087\n",
      "Epoch 12/30\n",
      "42000/42000 [==============================] - 7s 176us/step - loss: 0.9141 - acc: 0.7190\n",
      "Epoch 13/30\n",
      "42000/42000 [==============================] - 7s 173us/step - loss: 0.8855 - acc: 0.7276\n",
      "Epoch 14/30\n",
      "42000/42000 [==============================] - 7s 173us/step - loss: 0.8615 - acc: 0.7356\n",
      "Epoch 15/30\n",
      "42000/42000 [==============================] - 7s 174us/step - loss: 0.8378 - acc: 0.7415\n",
      "Epoch 16/30\n",
      "42000/42000 [==============================] - 8s 180us/step - loss: 0.8127 - acc: 0.7506\n",
      "Epoch 17/30\n",
      "42000/42000 [==============================] - 7s 178us/step - loss: 0.7913 - acc: 0.7578\n",
      "Epoch 18/30\n",
      "42000/42000 [==============================] - 7s 176us/step - loss: 0.7777 - acc: 0.7625\n",
      "Epoch 19/30\n",
      "42000/42000 [==============================] - 7s 174us/step - loss: 0.7572 - acc: 0.7680\n",
      "Epoch 20/30\n",
      "42000/42000 [==============================] - 7s 178us/step - loss: 0.7423 - acc: 0.7710\n",
      "Epoch 21/30\n",
      "42000/42000 [==============================] - 7s 178us/step - loss: 0.7253 - acc: 0.7754\n",
      "Epoch 22/30\n",
      "42000/42000 [==============================] - 7s 174us/step - loss: 0.7128 - acc: 0.7813\n",
      "Epoch 23/30\n",
      "42000/42000 [==============================] - 7s 177us/step - loss: 0.6957 - acc: 0.7873\n",
      "Epoch 24/30\n",
      "42000/42000 [==============================] - 7s 174us/step - loss: 0.6850 - acc: 0.7901\n",
      "Epoch 25/30\n",
      "42000/42000 [==============================] - 7s 174us/step - loss: 0.6728 - acc: 0.7932\n",
      "Epoch 26/30\n",
      "42000/42000 [==============================] - 7s 175us/step - loss: 0.6601 - acc: 0.7970\n",
      "Epoch 27/30\n",
      "42000/42000 [==============================] - 8s 182us/step - loss: 0.6510 - acc: 0.8005\n",
      "Epoch 28/30\n",
      "42000/42000 [==============================] - 7s 175us/step - loss: 0.6363 - acc: 0.8040\n",
      "Epoch 29/30\n",
      "42000/42000 [==============================] - 7s 174us/step - loss: 0.6290 - acc: 0.8074\n",
      "Epoch 30/30\n",
      "42000/42000 [==============================] - 8s 185us/step - loss: 0.6175 - acc: 0.8103\n"
     ]
    }
   ],
   "source": [
    "aug_model_Dense = NN_model_Dense(0.01)\n",
    "aug_model_history = aug_model_Dense.fit(train_features, y_train, epochs = 30, verbose = 1)"
   ]
  },
  {
   "cell_type": "code",
   "execution_count": 46,
   "metadata": {},
   "outputs": [
    {
     "name": "stdout",
     "output_type": "stream",
     "text": [
      "18000/18000 [==============================] - 1s 53us/step\n",
      "[0.7619999198118845, 0.7882222222222223]\n"
     ]
    }
   ],
   "source": [
    "Augument_Result = aug_model_Dense.evaluate(test_features,y_test)\n",
    "print(result_dropout)"
   ]
  },
  {
   "cell_type": "markdown",
   "metadata": {},
   "source": [
    "### Inferences :\n",
    "1. Implemented knn on partial dataset due to computational difficulties\n",
    "2. Calculated accuracy and computed confusion matrix, classification report\n",
    "3. KNN provides an accuracy of 38% \n",
    "\n",
    "1. Implemented feed forward Neural network with following variations:\n",
    "2. Relu Activation func . with different learning rates \n",
    "\twith 0.001 the accuracy is 24%\n",
    "\twith 0.01 the accuracy is 80% with loss 0.622.\n",
    "\tHence on test data., we achieved accuracy of 78% it is reasonable with a loss of 0.72.\n",
    "\tFurther to improve accuracy., we can have other methods like dropouts, batch normalization, data augumentation\n",
    "3. With Batchnormalization and Relu activation:\n",
    "\twe achieve accuracy of 89% and loss of 0.27. \n",
    "\tGood improvement compared with previous neural network without batch normalization.\n",
    "\ton Test data., we acheived 92% accuracy and loss of 0.26. \n",
    "4. With dropouts.\n",
    "\tDropout helps to overfit the data by generalizing the model.\n",
    "    The above model with batch normalization though has a good accuracy ., it tnds to slightly overfit as thetest accuracy is greater that validation and training accuracy by 3%. hence dropout can help generalize the model\n",
    "\tHere with the nerural netwrok with Batch normalization and dropout of 0.5., we got only 80% accuracy., which is not bad with a loss of 1.099.\n",
    "\tBy further working on learning rate or performing more training., we can improve accuracy.\n",
    "\tThe model gave 79% accuracy on test data with loss of 0.76. \n",
    "5. With varying activation functions and \"He\" initializer.\n",
    "\tinitially \"Sigmoid: Activation function with \"He\" initializer and lr = 0.01 was tried.\n",
    "\tThis method gives us loss of 2.3 and accuracy of 10%\n",
    "\tWith \"Relu\", He initializer and lr = 0.001\n",
    "\tagain this method gives us loss of 2.4 and accuracy of 20%\n",
    "\tWith \"Relu\", He initializer and lr =0.01, we are able to achieve accuracy of 68% and loss of 1.08.\n",
    "    Comparately., \"He\" initializer didnot show much improvement over Batch normalization and dropout methods.\n",
    "6. With Data Augumentation:\n",
    "\twe got the accuracy of 81% and loss of 0.61 on training data and on test set,we obtain accuracy of 79% and loss of 76%.\n",
    "\tEarlier with 'Relu' and lr of 0.01, we for 80% accuracy and loss of 0.6.\n",
    "\tBoth methods are giving same results and data sugumentation didnot show much improvement on the results.\n"
   ]
  },
  {
   "cell_type": "markdown",
   "metadata": {},
   "source": [
    "### Conclusion:\n",
    "#### Though dropouts have less accuracy compared with Batch normalization., it eneralizes well.\n",
    "#### On the other hane Batch normalization gives better accuracy and loss compared with rest of the methods."
   ]
  },
  {
   "cell_type": "code",
   "execution_count": null,
   "metadata": {},
   "outputs": [],
   "source": []
  }
 ],
 "metadata": {
  "kernelspec": {
   "display_name": "Python 3",
   "language": "python",
   "name": "python3"
  },
  "language_info": {
   "codemirror_mode": {
    "name": "ipython",
    "version": 3
   },
   "file_extension": ".py",
   "mimetype": "text/x-python",
   "name": "python",
   "nbconvert_exporter": "python",
   "pygments_lexer": "ipython3",
   "version": "3.7.3"
  }
 },
 "nbformat": 4,
 "nbformat_minor": 2
}
